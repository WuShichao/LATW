{
 "cells": [
  {
   "cell_type": "markdown",
   "id": "d57f5391-14c4-44c2-8ce6-daf5449fce12",
   "metadata": {},
   "source": [
    "# Tutorial 5: RJMCMC with Eryn"
   ]
  },
  {
   "cell_type": "markdown",
   "id": "b4d47393-00cb-4c8a-88e2-f32afe03779a",
   "metadata": {},
   "source": [
    "In the fifth tutorial, we will look at running Eryn when the underlying model is changing. This means we will be using Reversible-Jump MCMC, also referred to as trans-dimensional MCMC."
   ]
  },
  {
   "cell_type": "code",
   "execution_count": 1,
   "id": "746a2a3a-ae79-4e34-80a9-d26b264f73cd",
   "metadata": {},
   "outputs": [],
   "source": [
    "import numpy as np\n",
    "import matplotlib.pyplot as plt\n",
    "%matplotlib inline\n",
    "from lisatools.utils.constants import *\n",
    "from copy import deepcopy  # can be useful"
   ]
  },
  {
   "cell_type": "markdown",
   "id": "b1a3e8f1-25c1-4b19-bd0e-41e015a477bd",
   "metadata": {},
   "source": [
    "## Task 1: How many Gaussian pulses?"
   ]
  },
  {
   "cell_type": "markdown",
   "id": "5607f299-f57c-44c2-822d-c3dd73df4fd0",
   "metadata": {},
   "source": []
  },
  {
   "cell_type": "code",
   "execution_count": null,
   "id": "bb48fc35-f300-4415-b010-393568776e44",
   "metadata": {},
   "outputs": [],
   "source": []
  }
 ],
 "metadata": {
  "kernelspec": {
   "display_name": "Python 3 (ipykernel)",
   "language": "python",
   "name": "python3"
  },
  "language_info": {
   "codemirror_mode": {
    "name": "ipython",
    "version": 3
   },
   "file_extension": ".py",
   "mimetype": "text/x-python",
   "name": "python",
   "nbconvert_exporter": "python",
   "pygments_lexer": "ipython3",
   "version": "3.12.1"
  }
 },
 "nbformat": 4,
 "nbformat_minor": 5
}
