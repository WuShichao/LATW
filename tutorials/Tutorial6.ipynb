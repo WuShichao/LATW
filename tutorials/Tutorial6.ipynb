{
 "cells": [
  {
   "cell_type": "markdown",
   "id": "d730ae19-3c50-4ded-8165-20ba0109091c",
   "metadata": {},
   "source": [
    "# Tutorial 6: Galactic Binaries & RJMCMC"
   ]
  },
  {
   "cell_type": "markdown",
   "id": "fcfa353f-a37f-4fae-b288-a3aa754a5f78",
   "metadata": {},
   "source": [
    "In the sixth tutorial, we will examine Galactic Binary waveforms. We will then use them in fixed-dimensional MCMC and then in RJMCMC. We use RJMCMC to perform model selection on the number of sources in the data. "
   ]
  },
  {
   "cell_type": "code",
   "execution_count": null,
   "id": "de65c1f4-a35b-45f8-8afd-b7dd982eb929",
   "metadata": {},
   "outputs": [],
   "source": [
    "import numpy as np\n",
    "import matplotlib.pyplot as plt\n",
    "%matplotlib inline\n",
    "from lisatools.utils.constants import *\n",
    "from copy import deepcopy  # can be useful\n",
    "from lisatools.utils.constants import *\n",
    "from lisatools.sensitivity import get_sensitivity"
   ]
  },
  {
   "cell_type": "markdown",
   "id": "19546ba6-e9d9-4330-85e6-c55a8047f24a",
   "metadata": {},
   "source": [
    "## Task 1: Build and plot a Galacic Binary waveform using `GBGPU`"
   ]
  },
  {
   "cell_type": "markdown",
   "id": "124145ca-adc8-4537-a0b1-021df364f2dd",
   "metadata": {},
   "source": [
    "We will start by generating Galactic Binary waveforms with `GBGPU`. Pick reasonable parameters, build a waveform and plot it against the LISA A channel TDI Sensitivity Curve (`A1TDISens`) in the characteristic strain representation. You can access the information after waveform generation as attributes on the class. This may be updated in the future.\n",
    "\n",
    "Useful documentation:\n",
    "* [GBGPU](https://mikekatz04.github.io/GBGPU/html/user/main.html#gbgpu.gbgpu.GBGPU)"
   ]
  },
  {
   "cell_type": "code",
   "execution_count": null,
   "id": "e4cacc05-acdd-4ce5-b36b-e08ea0e414bf",
   "metadata": {},
   "outputs": [],
   "source": [
    "# imports\n",
    "from gbgpu.gbgpu import GBGPU"
   ]
  },
  {
   "cell_type": "code",
   "execution_count": null,
   "id": "516f4c0a-9c61-493b-b458-27c7e850eeee",
   "metadata": {},
   "outputs": [],
   "source": [
    "gb = GBGPU()"
   ]
  },
  {
   "cell_type": "code",
   "execution_count": null,
   "id": "dc107e26-1065-44f2-ba6f-0551255acde8",
   "metadata": {},
   "outputs": [],
   "source": []
  },
  {
   "cell_type": "markdown",
   "id": "5838038d-3bf6-4707-8a3b-1b95e02f1ea5",
   "metadata": {},
   "source": [
    "## Task 2: Run an MCMC over a single GB source"
   ]
  },
  {
   "cell_type": "markdown",
   "id": "3c627600-1f66-4745-916a-c3b05187e2ce",
   "metadata": {},
   "source": [
    "Run a fixed-dimensional MCMC run with a chosen GB source. Fix the sky location for now to simplify the problem computationally (this is especially important for the next section on RJ with GBs). So, you will sample over 6 of the 8 parameters. Discuss or think about reasonable priors for these parameters and how you would determine that. For simplicity, we recommend using tightly (but not too tightly) bound uniform distributions for this example setup.\n",
    "\n",
    "There is a faster `get_ll` method on the `GBGPU` class. However, it may be easier to use the full `AnalysisContainer` setup. This will make the RJ part more straight forward, but is not actually ideal for fixed-dimensional MCMC on GBs. \n",
    "\n",
    "AFter the run is complete, plot the posterior distribution with `chainconsumer` or `corner`. "
   ]
  },
  {
   "cell_type": "code",
   "execution_count": null,
   "id": "53357f1e-0504-41b7-88ea-2bdad6e34696",
   "metadata": {},
   "outputs": [],
   "source": [
    "from eryn.prior import uniform_dist, ProbDistContainer\n",
    "from lisatools.analysiscontainer import AnalysisContainer\n",
    "from lisatools.datacontainer import DataResidualArray\n",
    "from lisatools.sensitivity import AE1SensitivityMatrix\n",
    "from eryn.ensemble import EnsembleSampler\n",
    "from eryn.state import State"
   ]
  },
  {
   "cell_type": "code",
   "execution_count": null,
   "id": "0318160b-171c-422e-b91c-22c21987a787",
   "metadata": {},
   "outputs": [],
   "source": []
  },
  {
   "cell_type": "markdown",
   "id": "7293a371-e723-4156-909b-05b4b8b2d022",
   "metadata": {},
   "source": [
    "## Task 3: RJ with GBs"
   ]
  },
  {
   "cell_type": "markdown",
   "id": "2fe339a2-a7fa-4c19-8bfc-85ad7938a885",
   "metadata": {},
   "source": [
    "Our final task will be to run RJMCMC on a few close Galactic Binaries. The key component here is the \"global\" Likelihood function. Work to build a function that takes from Eryn and adjustable length array of templates to be summed into a global template prior to the Likelihood computations. This will be a bit tedious, but is very important for understanding this process. \n",
    "\n",
    "You will also have to introduce a `GaussianMove` like we did in the last lesson. We recommend picking a simple setup for the purposes of the tutorial. There are better ways to do this that would take more time (e.g. information matrix -> covariance calculation). \n",
    "\n",
    "If you can run the sampler and confirm the Likelihoods are working, then consider this completed. The time alloted for the tutorial and the overall setup needed to run this RJ setup correclty require a lot more runtime for reasonable results. So, you can plot what comes out, but it will become more accurate as your run the sampler longer. "
   ]
  },
  {
   "cell_type": "code",
   "execution_count": null,
   "id": "7c345b36-5269-4847-a73d-890eea9d2cba",
   "metadata": {},
   "outputs": [],
   "source": [
    "def fill_template(template, A, E, freqs, Tobs, dt):\n",
    "    for i in range(A.shape[0]):\n",
    "        start_ind = gb.start_inds[i]\n",
    "        end_ind = start_ind + N_wave\n",
    "        \n",
    "        assert end_ind - start_ind == gb.freqs.shape[1]\n",
    "        template[0, start_ind:end_ind] += A[i]\n",
    "        template[1, start_ind:end_ind] += E[i]\n",
    "\n",
    "def generate_global_template(template, params_all, Tobs, dt):\n",
    "    gb.run_wave(*params_all.T, T=Tobs, dt=dt, N=N_wave)  # T=Tobs, oversample=4)\n",
    "    fill_template(template, gb.A, gb.E, gb.freqs, Tobs, dt)\n",
    "    \n",
    "def global_log_likelihood(params_all, analysis, Tobs, dt, default_values):\n",
    "    input_parameters = np.zeros((params_all.shape[0], 9))\n",
    "    input_parameters[:, np.array([0, 1, 2, 4, 5, 6])] = params_all\n",
    "    input_parameters[:, np.array([7, 8])] = default_values\n",
    "    # print(input_parameters)\n",
    "    \n",
    "    template = np.zeros_like(analysis.data_res_arr[:])\n",
    "\n",
    "    generate_global_template(template, input_parameters, Tobs, dt)\n",
    "    template_in = DataResidualArray(template, f_arr=f_arr)\n",
    "    ll = analysis.template_likelihood(template_in)\n",
    "    return ll"
   ]
  },
  {
   "cell_type": "code",
   "execution_count": null,
   "id": "31fa2792-cd6a-433c-9b95-15fbf0666815",
   "metadata": {},
   "outputs": [],
   "source": [
    "injection_params_all = priors[\"gb\"].rvs(size=5)\n",
    "input_parameters = np.zeros((injection_params_all.shape[0], 9))\n",
    "input_parameters[:, np.array([0, 1, 2, 4, 5, 6])] = injection_params_all\n",
    "input_parameters[:, np.array([7, 8])] = default_values\n",
    "data = np.zeros((2, len(f_arr)), dtype=complex)\n",
    "\n",
    "generate_global_template(data, input_parameters, Tobs, dt)\n",
    "inds = np.where(data[0])\n",
    "plt.loglog(f_arr[inds], np.abs(data[0][inds]))"
   ]
  },
  {
   "cell_type": "code",
   "execution_count": null,
   "id": "97db9132-052c-4bce-966b-3bb014f840c8",
   "metadata": {},
   "outputs": [],
   "source": []
  }
 ],
 "metadata": {
  "kernelspec": {
   "display_name": "Python 3 (ipykernel)",
   "language": "python",
   "name": "python3"
  },
  "language_info": {
   "codemirror_mode": {
    "name": "ipython",
    "version": 3
   },
   "file_extension": ".py",
   "mimetype": "text/x-python",
   "name": "python",
   "nbconvert_exporter": "python",
   "pygments_lexer": "ipython3",
   "version": "3.12.1"
  }
 },
 "nbformat": 4,
 "nbformat_minor": 5
}
